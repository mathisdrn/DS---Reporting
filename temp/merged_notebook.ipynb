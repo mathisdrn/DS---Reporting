{
 "cells": [
  {
   "attachments": {},
   "cell_type": "markdown",
   "id": "cfe53969",
   "metadata": {
    "papermill": {
     "duration": 0.00521,
     "end_time": "2023-01-31T21:58:01.838443",
     "exception": false,
     "start_time": "2023-01-31T21:58:01.833233",
     "status": "completed"
    },
    "tags": [
     "output"
    ]
   },
   "source": [
    "# Project Metor"
   ]
  },
  {
   "attachments": {},
   "cell_type": "markdown",
   "id": "6c8a9e3a",
   "metadata": {
    "papermill": {
     "duration": 0.00234,
     "end_time": "2023-01-31T21:58:01.844281",
     "exception": false,
     "start_time": "2023-01-31T21:58:01.841941",
     "status": "completed"
    },
    "tags": [
     "output"
    ]
   },
   "source": [
    "## Data generation"
   ]
  },
  {
   "cell_type": "code",
   "execution_count": 1,
   "id": "e7ee74a1",
   "metadata": {
    "execution": {
     "iopub.execute_input": "2023-01-31T21:58:01.850018Z",
     "iopub.status.busy": "2023-01-31T21:58:01.849708Z",
     "iopub.status.idle": "2023-01-31T21:58:02.076054Z",
     "shell.execute_reply": "2023-01-31T21:58:02.075299Z"
    },
    "papermill": {
     "duration": 0.232639,
     "end_time": "2023-01-31T21:58:02.078680",
     "exception": false,
     "start_time": "2023-01-31T21:58:01.846041",
     "status": "completed"
    },
    "tags": [
     "output"
    ]
   },
   "outputs": [
    {
     "data": {
      "text/html": [
       "<div>\n",
       "<style scoped>\n",
       "    .dataframe tbody tr th:only-of-type {\n",
       "        vertical-align: middle;\n",
       "    }\n",
       "\n",
       "    .dataframe tbody tr th {\n",
       "        vertical-align: top;\n",
       "    }\n",
       "\n",
       "    .dataframe thead th {\n",
       "        text-align: right;\n",
       "    }\n",
       "</style>\n",
       "<table border=\"1\" class=\"dataframe\">\n",
       "  <thead>\n",
       "    <tr style=\"text-align: right;\">\n",
       "      <th></th>\n",
       "      <th>A</th>\n",
       "      <th>B</th>\n",
       "      <th>C</th>\n",
       "      <th>country</th>\n",
       "    </tr>\n",
       "  </thead>\n",
       "  <tbody>\n",
       "    <tr>\n",
       "      <th>0</th>\n",
       "      <td>3</td>\n",
       "      <td>26</td>\n",
       "      <td>55</td>\n",
       "      <td>USA</td>\n",
       "    </tr>\n",
       "    <tr>\n",
       "      <th>1</th>\n",
       "      <td>60</td>\n",
       "      <td>20</td>\n",
       "      <td>10</td>\n",
       "      <td>France</td>\n",
       "    </tr>\n",
       "    <tr>\n",
       "      <th>2</th>\n",
       "      <td>24</td>\n",
       "      <td>9</td>\n",
       "      <td>17</td>\n",
       "      <td>USA</td>\n",
       "    </tr>\n",
       "    <tr>\n",
       "      <th>3</th>\n",
       "      <td>96</td>\n",
       "      <td>76</td>\n",
       "      <td>51</td>\n",
       "      <td>USA</td>\n",
       "    </tr>\n",
       "    <tr>\n",
       "      <th>4</th>\n",
       "      <td>87</td>\n",
       "      <td>85</td>\n",
       "      <td>30</td>\n",
       "      <td>France</td>\n",
       "    </tr>\n",
       "  </tbody>\n",
       "</table>\n",
       "</div>"
      ],
      "text/plain": [
       "    A   B   C country\n",
       "0   3  26  55     USA\n",
       "1  60  20  10  France\n",
       "2  24   9  17     USA\n",
       "3  96  76  51     USA\n",
       "4  87  85  30  France"
      ]
     },
     "execution_count": 1,
     "metadata": {},
     "output_type": "execute_result"
    }
   ],
   "source": [
    "import pandas as pd\n",
    "import numpy as np\n",
    "import os\n",
    "\n",
    "# Generate some random data\n",
    "df = pd.DataFrame(np.random.randint(0,100,size=(100, 3)), columns=list('ABC'))\n",
    "# Add a country column with different country for random row\n",
    "df['country'] = np.random.choice(['USA', 'UK', 'France'], df.shape[0])\n",
    "df.head(5)"
   ]
  },
  {
   "cell_type": "code",
   "execution_count": 2,
   "id": "145ea709",
   "metadata": {
    "execution": {
     "iopub.execute_input": "2023-01-31T21:58:02.092983Z",
     "iopub.status.busy": "2023-01-31T21:58:02.091143Z",
     "iopub.status.idle": "2023-01-31T21:58:02.106890Z",
     "shell.execute_reply": "2023-01-31T21:58:02.105848Z"
    },
    "papermill": {
     "duration": 0.02688,
     "end_time": "2023-01-31T21:58:02.109203",
     "exception": false,
     "start_time": "2023-01-31T21:58:02.082323",
     "status": "completed"
    },
    "tags": [
     "output",
     "parameters"
    ]
   },
   "outputs": [],
   "source": [
    "DATA_FOLDER = 'data/'"
   ]
  },
  {
   "cell_type": "code",
   "execution_count": 3,
   "id": "8914f7c2",
   "metadata": {
    "execution": {
     "iopub.execute_input": "2023-01-31T21:58:02.116168Z",
     "iopub.status.busy": "2023-01-31T21:58:02.115782Z",
     "iopub.status.idle": "2023-01-31T21:58:02.118939Z",
     "shell.execute_reply": "2023-01-31T21:58:02.118366Z"
    },
    "papermill": {
     "duration": 0.00935,
     "end_time": "2023-01-31T21:58:02.121098",
     "exception": false,
     "start_time": "2023-01-31T21:58:02.111748",
     "status": "completed"
    },
    "tags": [
     "injected-parameters"
    ]
   },
   "outputs": [],
   "source": [
    "# Parameters\n",
    "DATA_FOLDER = \"/Users/mathisderenne/Mon Drive/GitHub/DS - Reporting/project_example/data\"\n"
   ]
  },
  {
   "cell_type": "code",
   "execution_count": 4,
   "id": "840af0db",
   "metadata": {
    "execution": {
     "iopub.execute_input": "2023-01-31T21:58:02.126280Z",
     "iopub.status.busy": "2023-01-31T21:58:02.125945Z",
     "iopub.status.idle": "2023-01-31T21:58:02.133806Z",
     "shell.execute_reply": "2023-01-31T21:58:02.133073Z"
    },
    "papermill": {
     "duration": 0.012438,
     "end_time": "2023-01-31T21:58:02.135946",
     "exception": false,
     "start_time": "2023-01-31T21:58:02.123508",
     "status": "completed"
    },
    "tags": []
   },
   "outputs": [],
   "source": [
    "# save data to csv\n",
    "df.to_csv(os.path.join(DATA_FOLDER, 'data.csv'), index=False)"
   ]
  },
  {
   "attachments": {},
   "cell_type": "markdown",
   "id": "a5d9baf4",
   "metadata": {
    "papermill": {
     "duration": 0.005836,
     "end_time": "2023-01-31T21:58:02.977093",
     "exception": false,
     "start_time": "2023-01-31T21:58:02.971257",
     "status": "completed"
    },
    "tags": []
   },
   "source": [
    "# Project Metor"
   ]
  },
  {
   "attachments": {},
   "cell_type": "markdown",
   "id": "61e0f968",
   "metadata": {
    "papermill": {
     "duration": 0.003036,
     "end_time": "2023-01-31T21:58:02.984469",
     "exception": false,
     "start_time": "2023-01-31T21:58:02.981433",
     "status": "completed"
    },
    "tags": [
     "output"
    ]
   },
   "source": [
    "## Important result of Analysis \n",
    "\n",
    "This file serve the purpose of demonstrating Reporter in action."
   ]
  },
  {
   "cell_type": "code",
   "execution_count": 1,
   "id": "809e3d58",
   "metadata": {
    "execution": {
     "iopub.execute_input": "2023-01-31T21:58:02.990704Z",
     "iopub.status.busy": "2023-01-31T21:58:02.990404Z",
     "iopub.status.idle": "2023-01-31T21:58:03.737338Z",
     "shell.execute_reply": "2023-01-31T21:58:03.736983Z"
    },
    "papermill": {
     "duration": 0.751137,
     "end_time": "2023-01-31T21:58:03.738434",
     "exception": false,
     "start_time": "2023-01-31T21:58:02.987297",
     "status": "completed"
    },
    "tags": []
   },
   "outputs": [],
   "source": [
    "import os \n",
    "import pandas as pd\n",
    "import numpy as np\n",
    "import matplotlib.pyplot as plt\n",
    "import seaborn as sns"
   ]
  },
  {
   "cell_type": "code",
   "execution_count": 2,
   "id": "fb7c0bf8",
   "metadata": {
    "execution": {
     "iopub.execute_input": "2023-01-31T21:58:03.741475Z",
     "iopub.status.busy": "2023-01-31T21:58:03.741294Z",
     "iopub.status.idle": "2023-01-31T21:58:03.743076Z",
     "shell.execute_reply": "2023-01-31T21:58:03.742817Z"
    },
    "papermill": {
     "duration": 0.004149,
     "end_time": "2023-01-31T21:58:03.743918",
     "exception": false,
     "start_time": "2023-01-31T21:58:03.739769",
     "status": "completed"
    },
    "tags": [
     "parameters"
    ]
   },
   "outputs": [],
   "source": [
    "DATA_FOLDER = 'data/'"
   ]
  },
  {
   "cell_type": "code",
   "execution_count": 3,
   "id": "861836c6",
   "metadata": {
    "execution": {
     "iopub.execute_input": "2023-01-31T21:58:03.746827Z",
     "iopub.status.busy": "2023-01-31T21:58:03.746607Z",
     "iopub.status.idle": "2023-01-31T21:58:03.748358Z",
     "shell.execute_reply": "2023-01-31T21:58:03.748109Z"
    },
    "papermill": {
     "duration": 0.004268,
     "end_time": "2023-01-31T21:58:03.749220",
     "exception": false,
     "start_time": "2023-01-31T21:58:03.744952",
     "status": "completed"
    },
    "tags": [
     "injected-parameters"
    ]
   },
   "outputs": [],
   "source": [
    "# Parameters\n",
    "DATA_FOLDER = \"/Users/mathisderenne/Mon Drive/GitHub/DS - Reporting/project_example/data\"\n"
   ]
  },
  {
   "cell_type": "code",
   "execution_count": 4,
   "id": "474dbb3b",
   "metadata": {
    "execution": {
     "iopub.execute_input": "2023-01-31T21:58:03.751561Z",
     "iopub.status.busy": "2023-01-31T21:58:03.751456Z",
     "iopub.status.idle": "2023-01-31T21:58:03.757121Z",
     "shell.execute_reply": "2023-01-31T21:58:03.756873Z"
    },
    "papermill": {
     "duration": 0.007792,
     "end_time": "2023-01-31T21:58:03.757988",
     "exception": false,
     "start_time": "2023-01-31T21:58:03.750196",
     "status": "completed"
    },
    "tags": []
   },
   "outputs": [
    {
     "data": {
      "text/html": [
       "<div>\n",
       "<style scoped>\n",
       "    .dataframe tbody tr th:only-of-type {\n",
       "        vertical-align: middle;\n",
       "    }\n",
       "\n",
       "    .dataframe tbody tr th {\n",
       "        vertical-align: top;\n",
       "    }\n",
       "\n",
       "    .dataframe thead th {\n",
       "        text-align: right;\n",
       "    }\n",
       "</style>\n",
       "<table border=\"1\" class=\"dataframe\">\n",
       "  <thead>\n",
       "    <tr style=\"text-align: right;\">\n",
       "      <th></th>\n",
       "      <th>A</th>\n",
       "      <th>B</th>\n",
       "      <th>C</th>\n",
       "      <th>country</th>\n",
       "    </tr>\n",
       "  </thead>\n",
       "  <tbody>\n",
       "    <tr>\n",
       "      <th>0</th>\n",
       "      <td>3</td>\n",
       "      <td>26</td>\n",
       "      <td>55</td>\n",
       "      <td>USA</td>\n",
       "    </tr>\n",
       "    <tr>\n",
       "      <th>1</th>\n",
       "      <td>60</td>\n",
       "      <td>20</td>\n",
       "      <td>10</td>\n",
       "      <td>France</td>\n",
       "    </tr>\n",
       "    <tr>\n",
       "      <th>2</th>\n",
       "      <td>24</td>\n",
       "      <td>9</td>\n",
       "      <td>17</td>\n",
       "      <td>USA</td>\n",
       "    </tr>\n",
       "    <tr>\n",
       "      <th>3</th>\n",
       "      <td>96</td>\n",
       "      <td>76</td>\n",
       "      <td>51</td>\n",
       "      <td>USA</td>\n",
       "    </tr>\n",
       "    <tr>\n",
       "      <th>4</th>\n",
       "      <td>87</td>\n",
       "      <td>85</td>\n",
       "      <td>30</td>\n",
       "      <td>France</td>\n",
       "    </tr>\n",
       "  </tbody>\n",
       "</table>\n",
       "</div>"
      ],
      "text/plain": [
       "    A   B   C country\n",
       "0   3  26  55     USA\n",
       "1  60  20  10  France\n",
       "2  24   9  17     USA\n",
       "3  96  76  51     USA\n",
       "4  87  85  30  France"
      ]
     },
     "execution_count": 4,
     "metadata": {},
     "output_type": "execute_result"
    }
   ],
   "source": [
    "# Read the data\n",
    "df = pd.read_csv(os.path.join(DATA_FOLDER, 'data.csv'))\n",
    "df.head()"
   ]
  },
  {
   "cell_type": "code",
   "execution_count": 5,
   "id": "0509125c",
   "metadata": {
    "execution": {
     "iopub.execute_input": "2023-01-31T21:58:03.760799Z",
     "iopub.status.busy": "2023-01-31T21:58:03.760700Z",
     "iopub.status.idle": "2023-01-31T21:58:03.762423Z",
     "shell.execute_reply": "2023-01-31T21:58:03.762177Z"
    },
    "papermill": {
     "duration": 0.004192,
     "end_time": "2023-01-31T21:58:03.763396",
     "exception": false,
     "start_time": "2023-01-31T21:58:03.759204",
     "status": "completed"
    },
    "tags": [
     "parameters"
    ]
   },
   "outputs": [],
   "source": [
    "COUNTRY = list(df.country.unique())"
   ]
  },
  {
   "cell_type": "code",
   "execution_count": 6,
   "id": "e94c46ba",
   "metadata": {
    "execution": {
     "iopub.execute_input": "2023-01-31T21:58:03.766211Z",
     "iopub.status.busy": "2023-01-31T21:58:03.766089Z",
     "iopub.status.idle": "2023-01-31T21:58:03.767768Z",
     "shell.execute_reply": "2023-01-31T21:58:03.767541Z"
    },
    "papermill": {
     "duration": 0.00395,
     "end_time": "2023-01-31T21:58:03.768533",
     "exception": false,
     "start_time": "2023-01-31T21:58:03.764583",
     "status": "completed"
    },
    "tags": []
   },
   "outputs": [],
   "source": [
    "if type(COUNTRY) != list:\n",
    "    COUNTRY = [COUNTRY]"
   ]
  },
  {
   "cell_type": "code",
   "execution_count": 7,
   "id": "37b041ff",
   "metadata": {
    "execution": {
     "iopub.execute_input": "2023-01-31T21:58:03.771213Z",
     "iopub.status.busy": "2023-01-31T21:58:03.771116Z",
     "iopub.status.idle": "2023-01-31T21:58:03.773351Z",
     "shell.execute_reply": "2023-01-31T21:58:03.773115Z"
    },
    "papermill": {
     "duration": 0.00449,
     "end_time": "2023-01-31T21:58:03.774171",
     "exception": false,
     "start_time": "2023-01-31T21:58:03.769681",
     "status": "completed"
    },
    "tags": []
   },
   "outputs": [],
   "source": [
    "def filter(df, country):\n",
    "    if len(COUNTRY) == 1:\n",
    "        country_name = COUNTRY[0]\n",
    "    else:\n",
    "        country_name = 'all countries'\n",
    "\n",
    "    return df[df.country.isin(country)], country_name\n",
    "\n",
    "df, country_name = filter(df, COUNTRY)"
   ]
  },
  {
   "cell_type": "code",
   "execution_count": 8,
   "id": "6e769f1e",
   "metadata": {
    "execution": {
     "iopub.execute_input": "2023-01-31T21:58:03.776861Z",
     "iopub.status.busy": "2023-01-31T21:58:03.776765Z",
     "iopub.status.idle": "2023-01-31T21:58:03.865907Z",
     "shell.execute_reply": "2023-01-31T21:58:03.865635Z"
    },
    "papermill": {
     "duration": 0.09163,
     "end_time": "2023-01-31T21:58:03.866930",
     "exception": false,
     "start_time": "2023-01-31T21:58:03.775300",
     "status": "completed"
    },
    "tags": [
     "output"
    ]
   },
   "outputs": [
    {
     "data": {
      "image/png": "[encoded data removed]",
      "text/plain": [
       "<Figure size 640x480 with 1 Axes>"
      ]
     },
     "metadata": {},
     "output_type": "display_data"
    }
   ],
   "source": [
    "sns.set(style=\"whitegrid\")\n",
    "sns.scatterplot(x=\"A\", y=\"B\", data=df)\n",
    "plt.title(f'Plot for {country_name}')\n",
    "plt.show()"
   ]
  }
 ],
 "metadata": {
  "kernelspec": {
   "display_name": "Python3_10_tensorflow",
   "language": "python",
   "name": "python3"
  },
  "language_info": {
   "codemirror_mode": {
    "name": "ipython",
    "version": 3
   },
   "file_extension": ".py",
   "mimetype": "text/x-python",
   "name": "python",
   "nbconvert_exporter": "python",
   "pygments_lexer": "ipython3",
   "version": "3.10.9"
  },
  "papermill": {
   "default_parameters": {},
   "duration": 1.404533,
   "end_time": "2023-01-31T21:58:02.354342",
   "environment_variables": {},
   "exception": null,
   "input_path": "/Users/mathisderenne/Mon Drive/GitHub/DS - Reporting/temp/generating_data.ipynb",
   "output_path": "/Users/mathisderenne/Mon Drive/GitHub/DS - Reporting/temp/generating_data.ipynb",
   "parameters": {
    "DATA_FOLDER": "/Users/mathisderenne/Mon Drive/GitHub/DS - Reporting/project_example/data"
   },
   "start_time": "2023-01-31T21:58:00.949809",
   "version": "2.4.0"
  },
  "vscode": {
   "interpreter": {
    "hash": "f7816969fa888e0e158089922fbddce12ff2f56a464d99478bca5de994cc6b5b"
   }
  }
 },
 "nbformat": 4,
 "nbformat_minor": 5
}
