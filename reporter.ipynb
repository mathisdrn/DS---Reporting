{
 "cells": [
  {
   "attachments": {},
   "cell_type": "markdown",
   "metadata": {},
   "source": [
    "## Reporter - a reporting tool for Data Science Project\n",
    "This notebook is part of a set of standardize data science tools I am creating. This intend to automate a data science projects and the reporting of it.\n",
    "It handles multiples notebook execution, parametrization and exporting. \n",
    "\n",
    "This code can be easily adapted to match the needs of a data science project. Querying data, Raising error, configure how notebooks are merged, etc.\n",
    "\n",
    "**Note** : due to limitation to get notebook's directory, notebook executed by Reporter will work from current working directory of reporter.ipynb. This can pose problem when your notebooks input or output data.\n",
    "\n",
    "This can be overcome in several ways : \n",
    "- use hardcoded path : it gives you the freedom of your project's structure (not recommended)\n",
    "- give path as parameter of your notebooks (used in this notebook)\n",
    "- use relative path and set Reporter at the same level in the tree structure as the notebooks you are executing (temp folder can be located anywhere)) :\n",
    "\n",
    "***Project folder***\n",
    "\n",
    "    - Prediction model\n",
    "\n",
    "        - model.ipynb\n",
    "\n",
    "    - Dashboard\n",
    "\n",
    "        - dashboard.ipynb\n",
    "\n",
    "    - Reporter\n",
    "\n",
    "        - reporter.ipynb "
   ]
  },
  {
   "attachments": {},
   "cell_type": "markdown",
   "metadata": {},
   "source": [
    "### I - Configuration"
   ]
  },
  {
   "cell_type": "code",
   "execution_count": 166,
   "metadata": {},
   "outputs": [],
   "source": [
    "import os\n",
    "import sys\n",
    "from pathlib import Path\n",
    "import shutil\n",
    "import papermill as pm\n",
    "\n",
    "# this project use nbmerge with bash command !nbmerge"
   ]
  },
  {
   "cell_type": "code",
   "execution_count": 167,
   "metadata": {},
   "outputs": [
    {
     "name": "stdout",
     "output_type": "stream",
     "text": [
      "Project directory: /Users/mathisderenne/Mon Drive/GitHub/DS - Reporting/project_example\n"
     ]
    }
   ],
   "source": [
    "# Set to current directory\n",
    "PROJECT_DIR = Path.cwd().joinpath('project_example')\n",
    "# Where the final report will be saved\n",
    "REPORT_DIR = Path.cwd()\n",
    "# Where the data is stored\n",
    "DATA_FOLDER = PROJECT_DIR.joinpath('data')\n",
    "# Setting no to temp_folder will execute notebooks in place\n",
    "TEMP_FOLDER = REPORT_DIR.joinpath('temp')\n",
    "\n",
    "delete_temp = True\n",
    "\n",
    "print('Project directory: {}'.format(PROJECT_DIR))"
   ]
  },
  {
   "cell_type": "code",
   "execution_count": 168,
   "metadata": {},
   "outputs": [],
   "source": [
    "# Raise error if project_dir does not exist\n",
    "if not PROJECT_DIR.exists():\n",
    "    raise ValueError('Project directory does not exist: {}'.format(PROJECT_DIR))\n",
    "\n",
    "# Create data folder and temp folder if they do not exist\n",
    "if DATA_FOLDER and not DATA_FOLDER.exists():\n",
    "    print('Creating data folder: {}'.format(DATA_FOLDER))\n",
    "    DATA_FOLDER.mkdir()\n",
    "if not TEMP_FOLDER.exists():\n",
    "    print('Creating temp folder: {}'.format(TEMP_FOLDER))\n",
    "    TEMP_FOLDER.mkdir()"
   ]
  },
  {
   "cell_type": "code",
   "execution_count": 169,
   "metadata": {},
   "outputs": [
    {
     "name": "stdout",
     "output_type": "stream",
     "text": [
      "generating_data.ipynb at /Users/mathisderenne/Mon Drive/GitHub/DS - Reporting/project_example/generating_data.ipynb\n",
      "EDA.ipynb at /Users/mathisderenne/Mon Drive/GitHub/DS - Reporting/project_example/EDA.ipynb\n"
     ]
    }
   ],
   "source": [
    "# List of Notebooks to execute, parameterize, and report\n",
    "# folder_name can be set to None or a path to a folder relative to PROJECT_DIR \n",
    "NOTEBOOKS = [\n",
    "    {\n",
    "        'notebook_name' : 'generating_data.ipynb',\n",
    "        'folder_name' : PROJECT_DIR,\n",
    "        'param' : {'DATA_FOLDER' : str(DATA_FOLDER)}\n",
    "    },\n",
    "    {\n",
    "        'notebook_name' : 'EDA.ipynb',\n",
    "        'folder_name' : PROJECT_DIR,\n",
    "        'param' : {'DATA_FOLDER' : str(DATA_FOLDER)}\n",
    "    }\n",
    "]\n",
    "    \n",
    "for notebook in NOTEBOOKS:\n",
    "    if notebook['folder_name'] is None:\n",
    "        notebook['notebook_path'] = PROJECT_DIR.joinpath(notebook['notebook_name'])\n",
    "    else:\n",
    "        notebook['notebook_path'] = PROJECT_DIR.joinpath(notebook['folder_name'], notebook['notebook_name'])\n",
    "\n",
    "for nb in NOTEBOOKS: \n",
    "    print(f\"{nb['notebook_name']} at {nb['notebook_path']}\")\n",
    "    # Raise error if notebook does not exist\n",
    "    if not nb['notebook_path'].exists():\n",
    "        raise ValueError(f\"Notebook {nb['notebook_name']} does not exist: {nb['notebook_path']}\")"
   ]
  },
  {
   "attachments": {},
   "cell_type": "markdown",
   "metadata": {},
   "source": [
    "### II - Execution\n",
    "\n",
    "**Process :** \n",
    "1. Move file to temp folder if set\n",
    "2. Execute notebook with parameters"
   ]
  },
  {
   "cell_type": "code",
   "execution_count": 170,
   "metadata": {},
   "outputs": [],
   "source": [
    "if TEMP_FOLDER is not None:\n",
    "    for nb in NOTEBOOKS:\n",
    "        # Copy notebooks to temp folder\n",
    "        shutil.copy(nb['notebook_path'], TEMP_FOLDER)\n",
    "        # Update notebook path to temp folder\n",
    "        nb['notebook_path'] = TEMP_FOLDER.joinpath(nb['notebook_name'])"
   ]
  },
  {
   "cell_type": "code",
   "execution_count": 171,
   "metadata": {},
   "outputs": [
    {
     "name": "stderr",
     "output_type": "stream",
     "text": [
      "Black is not installed, parameters wont be formatted\n"
     ]
    },
    {
     "name": "stdout",
     "output_type": "stream",
     "text": [
      "Executing notebook: generating_data.ipynb\n"
     ]
    },
    {
     "data": {
      "application/vnd.jupyter.widget-view+json": {
       "model_id": "4c6c814de17349d29b3cd5fe596cfa83",
       "version_major": 2,
       "version_minor": 0
      },
      "text/plain": [
       "Executing:   0%|          | 0/6 [00:00<?, ?cell/s]"
      ]
     },
     "metadata": {},
     "output_type": "display_data"
    },
    {
     "name": "stderr",
     "output_type": "stream",
     "text": [
      "Unable to load extension: pydevd_plugins.extensions.types.pydevd_plugin_pandas_types\n",
      "Black is not installed, parameters wont be formatted\n"
     ]
    },
    {
     "name": "stdout",
     "output_type": "stream",
     "text": [
      "Executing notebook: EDA.ipynb\n"
     ]
    },
    {
     "data": {
      "application/vnd.jupyter.widget-view+json": {
       "model_id": "47081cafd827495ab1625a7fc8e40590",
       "version_major": 2,
       "version_minor": 0
      },
      "text/plain": [
       "Executing:   0%|          | 0/10 [00:00<?, ?cell/s]"
      ]
     },
     "metadata": {},
     "output_type": "display_data"
    },
    {
     "name": "stderr",
     "output_type": "stream",
     "text": [
      "Unable to load extension: pydevd_plugins.extensions.types.pydevd_plugin_pandas_types\n"
     ]
    }
   ],
   "source": [
    "# Execute notebooks\n",
    "for nb in NOTEBOOKS:\n",
    "    print(f\"Executing notebook: {nb['notebook_name']}\")\n",
    "    pm.execute_notebook(nb['notebook_path'], nb['notebook_path'], parameters = nb['param'],progress_bar = True)"
   ]
  },
  {
   "attachments": {},
   "cell_type": "markdown",
   "metadata": {},
   "source": [
    "### III - Reporting\n",
    "\n",
    "**Process :**\n",
    "1. Merge the executed version of notebooks\n",
    "1. Export the merged notebook to html"
   ]
  },
  {
   "cell_type": "code",
   "execution_count": 172,
   "metadata": {},
   "outputs": [],
   "source": [
    "import nbformat\n",
    "import nbconvert as nbc\n",
    "from nbconvert import HTMLExporter\n",
    "from traitlets.config import Config\n",
    "from nbconvert.preprocessors import TagRemovePreprocessor\n",
    "# import functions.main\n",
    "from functions.main import TagFilterPreprocessor"
   ]
  },
  {
   "cell_type": "code",
   "execution_count": 173,
   "metadata": {},
   "outputs": [
    {
     "name": "stdout",
     "output_type": "stream",
     "text": [
      "Merging notebooks as merged_notebook.ipynb in TEMP_FOLDER\n"
     ]
    }
   ],
   "source": [
    "# Merge notebooks\n",
    "notebook_paths = \" \".join(['\"{}\"'.format(nb['notebook_path']) for nb in NOTEBOOKS])\n",
    "merged_nb_path = TEMP_FOLDER.joinpath('merged_notebook.ipynb')\n",
    "output_path = '\"{}\"'.format(str(merged_nb_path))\n",
    "\n",
    "print(f\"Merging notebooks as merged_notebook.ipynb in TEMP_FOLDER\")\n",
    "\n",
    "!nbmerge {notebook_paths} -o {output_path}\n",
    "\n",
    "if not merged_nb_path.exists():\n",
    "    raise ValueError('Merged notebook does not exist: {}'.format(merged_nb_path))"
   ]
  },
  {
   "cell_type": "code",
   "execution_count": 175,
   "metadata": {},
   "outputs": [
    {
     "name": "stdout",
     "output_type": "stream",
     "text": [
      "Reading merged notebook: /Users/mathisderenne/Mon Drive/GitHub/DS - Reporting/temp/merged_notebook.ipynb\n",
      "Writing report.html\n"
     ]
    }
   ],
   "source": [
    "\n",
    "def export_nb(nb_path):\n",
    "    # Read merged_notebook\n",
    "    with open(nb_path) as f:\n",
    "        print(f\"Reading merged notebook: {nb_path}\")\n",
    "        nb = nbformat.read(f, as_version=4)\n",
    "    \n",
    "    # Notebook Preprocessing and Exporter Configuration\n",
    "    c = Config()\n",
    "\n",
    "    # remove input cells\n",
    "    c.TemplateExporter.exclude_input = True\n",
    "\n",
    "    # exclude cells that do not contain these tag\n",
    "    c.TagFilterPreprocessor.allowed_tags = ['output']\n",
    "    # you may want to create tags for logging purposes\n",
    "\n",
    "    exporter = HTMLExporter(template_name='classic', config = c)\n",
    "    exporter.register_preprocessor(TagFilterPreprocessor(allowed_tags=c.TagFilterPreprocessor.allowed_tags, config=c),True)\n",
    "\n",
    "    (body, resources) = exporter.from_notebook_node(nb)\n",
    "\n",
    "    # Notebook reporting\n",
    "    with open(\"report.html\",  \"w\") as f:\n",
    "        print(f\"Writing report.html\")\n",
    "        f.write(body)\n",
    "\n",
    "    return\n",
    "\n",
    "export_nb(merged_nb_path)"
   ]
  },
  {
   "cell_type": "code",
   "execution_count": null,
   "metadata": {},
   "outputs": [],
   "source": []
  }
 ],
 "metadata": {
  "kernelspec": {
   "display_name": "Python3_10_for_DS",
   "language": "python",
   "name": "python3"
  },
  "language_info": {
   "codemirror_mode": {
    "name": "ipython",
    "version": 3
   },
   "file_extension": ".py",
   "mimetype": "text/x-python",
   "name": "python",
   "nbconvert_exporter": "python",
   "pygments_lexer": "ipython3",
   "version": "3.10.9"
  },
  "orig_nbformat": 4,
  "vscode": {
   "interpreter": {
    "hash": "4f15879ec39d6ff92f630882935d01770f1150daa43e1577b85d7cbe7310c9dd"
   }
  }
 },
 "nbformat": 4,
 "nbformat_minor": 2
}
